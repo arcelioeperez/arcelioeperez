{
 "cells": [
  {
   "cell_type": "code",
   "execution_count": 1,
   "metadata": {},
   "outputs": [],
   "source": [
    "import sqlalchemy\n",
    "import pandas as pd\n",
    "import pymysql"
   ]
  },
  {
   "cell_type": "code",
   "execution_count": 2,
   "metadata": {},
   "outputs": [],
   "source": [
    "from sqlalchemy import create_engine\n",
    "from sqlalchemy.sql import text"
   ]
  },
  {
   "cell_type": "code",
   "execution_count": 3,
   "metadata": {},
   "outputs": [],
   "source": [
    "class Csv: \n",
    "    def __init__(self, file_name): \n",
    "        self.file_name = file_name\n",
    "        global data\n",
    "        data = pd.read_csv(self.file_name)\n",
    "        global headers\n",
    "        headers = data.dtypes.index \n",
    "    def table_columns(self): \n",
    "        self.stmt = \"id INT AUTO_INCREMENT PRIMARY KEY\"\n",
    "        self.tmap = {'object' : 'TEXT',\n",
    "            'int64' : 'INT',\n",
    "            'float64' : 'FLOAT',\n",
    "            'datetime64' : 'DATETIME',\n",
    "            'bool' : 'TINYINT',\n",
    "            'category' : 'TEXT',\n",
    "            'timedelta[ns]' : 'TEXT'}\n",
    "        self.headers_list = [(i, str(data.dtypes[i])) for i in headers]\n",
    "        for i, h1 in enumerate(self.headers_list): \n",
    "            self.stmt += f\", {h1[0]} {self.tmap[h1[1]]}\"\n",
    "        return self.stmt \n",
    "    class Sql: \n",
    "        def __init__(self, user, password, host, database):\n",
    "            self.user = user \n",
    "            self.password = password \n",
    "            self.host = host\n",
    "            #self.port = port \n",
    "            self.database = database\n",
    "        \"\"\"def connection(self): \n",
    "            #self.sql_engine = create_engine(f\"mysql+pymysql://{self.user}:{self.password}@{self.host}:{self.port}/{self.database}?charset=utf8\")\n",
    "            self.sql_engine = create_engine(f\"mysql://{self.user}:{self.password}@{self.host}/{self.database}\")\n",
    "            self.conn = self.sql_engine.connect()\n",
    "            #return self.conn\n",
    "        \"\"\"\n",
    "        def create_table(self, table_name): \n",
    "            self.table_name = table_name\n",
    "            self.sql = f\"CREATE TABLE IF NOT EXISTS {self.table_name} ({Csv.table_columns(self)});\"\n",
    "            return self.sql\n",
    "        def cur_conn(self):\n",
    "            \"\"\" \n",
    "            self.cur = self.conn.cursor().execute(self.sql)\n",
    "            self.cur.close()\n",
    "            return self.conn.commit()\n",
    "            \"\"\"\n",
    "            self.sql_engine = create_engine(f\"mysql+pymysql://{self.user}:{self.password}@{self.host}/{self.database}\")\n",
    "            self.connection = self.sql_engine.raw_connection()\n",
    "            self.cursor = self.connection.cursor()\n",
    "            self.execute = self.cursor.execute(self.sql)\n",
    "            #sefl.cursor.execute(self.sql)\n",
    "            self.cursor.close()\n",
    "            self.connection.commit()\n",
    "        def df_to_sql(self):\n",
    "            self.df = pd.read_csv(\"ins.csv\", delimiter = \",\", header = None)\n",
    "            self.df.to_sql(self.table_name, con = self.sql_engine, if_exists = \"replace\", index = False, index_label = False)\n",
    "            "
   ]
  },
  {
   "cell_type": "code",
   "execution_count": 4,
   "metadata": {},
   "outputs": [],
   "source": [
    "firsttable = Csv(\"ins.csv\")"
   ]
  },
  {
   "cell_type": "code",
   "execution_count": 5,
   "metadata": {},
   "outputs": [
    {
     "data": {
      "text/plain": [
       "'ins.csv'"
      ]
     },
     "execution_count": 5,
     "metadata": {},
     "output_type": "execute_result"
    }
   ],
   "source": [
    "firsttable.file_name"
   ]
  },
  {
   "cell_type": "code",
   "execution_count": 6,
   "metadata": {},
   "outputs": [
    {
     "data": {
      "text/plain": [
       "'id INT AUTO_INCREMENT PRIMARY KEY, age INT, sex TEXT, bmi FLOAT, children INT, smoker TEXT, region TEXT, charges FLOAT'"
      ]
     },
     "execution_count": 6,
     "metadata": {},
     "output_type": "execute_result"
    }
   ],
   "source": [
    "firsttable.table_columns()"
   ]
  },
  {
   "cell_type": "code",
   "execution_count": 7,
   "metadata": {},
   "outputs": [],
   "source": [
    "#user = firsttable.Sql(user = \"root\", password = \"lacortes9\", host = \"localhost\", port = \"3306\", database = \"test\")\n",
    "user = firsttable.Sql(user = \"root\", password = \"lacortes9\", host = \"localhost\", database = \"test\")"
   ]
  },
  {
   "cell_type": "code",
   "execution_count": 8,
   "metadata": {},
   "outputs": [],
   "source": [
    "#mysql+mysqlconnector://<user>:<password>@<host>[:<port>]/<dbname>"
   ]
  },
  {
   "cell_type": "code",
   "execution_count": 9,
   "metadata": {},
   "outputs": [],
   "source": [
    "#user.connection()"
   ]
  },
  {
   "cell_type": "code",
   "execution_count": 10,
   "metadata": {},
   "outputs": [
    {
     "data": {
      "text/plain": [
       "'CREATE TABLE IF NOT EXISTS newtable (id INT AUTO_INCREMENT PRIMARY KEY, age INT, sex TEXT, bmi FLOAT, children INT, smoker TEXT, region TEXT, charges FLOAT);'"
      ]
     },
     "execution_count": 10,
     "metadata": {},
     "output_type": "execute_result"
    }
   ],
   "source": [
    "user.create_table(table_name = \"newtable\")"
   ]
  },
  {
   "cell_type": "code",
   "execution_count": 11,
   "metadata": {},
   "outputs": [
    {
     "name": "stdout",
     "output_type": "stream",
     "text": [
      "CREATE TABLE IF NOT EXISTS newtable (id INT AUTO_INCREMENT PRIMARY KEY, age INT, sex TEXT, bmi FLOAT, children INT, smoker TEXT, region TEXT, charges FLOAT);\n"
     ]
    }
   ],
   "source": [
    "print(user.sql)"
   ]
  },
  {
   "cell_type": "code",
   "execution_count": 12,
   "metadata": {},
   "outputs": [],
   "source": [
    "user.cur_conn()"
   ]
  },
  {
   "cell_type": "code",
   "execution_count": 13,
   "metadata": {},
   "outputs": [],
   "source": [
    "user.df_to_sql()"
   ]
  },
  {
   "cell_type": "code",
   "execution_count": null,
   "metadata": {},
   "outputs": [],
   "source": [
    "#Test Succesful !"
   ]
  },
  {
   "cell_type": "markdown",
   "metadata": {},
   "source": [
    "### Credit \n",
    "[StackOverflow](https://stackoverflow.com/questions/51236304/how-to-create-a-new-table-in-a-mysql-db-from-a-pandas-dataframe)"
   ]
  }
 ],
 "metadata": {
  "kernelspec": {
   "display_name": "Python 3",
   "language": "python",
   "name": "python3"
  },
  "language_info": {
   "codemirror_mode": {
    "name": "ipython",
    "version": 3
   },
   "file_extension": ".py",
   "mimetype": "text/x-python",
   "name": "python",
   "nbconvert_exporter": "python",
   "pygments_lexer": "ipython3",
   "version": "3.8.5"
  }
 },
 "nbformat": 4,
 "nbformat_minor": 4
}
